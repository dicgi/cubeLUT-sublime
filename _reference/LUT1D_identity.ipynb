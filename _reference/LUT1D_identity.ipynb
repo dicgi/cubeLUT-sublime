{
 "cells": [
  {
   "cell_type": "markdown",
   "metadata": {},
   "source": [
    "# LUT 1D - Identidade\n",
    "---\n",
    "LUT (ou *Lookup Table*) identidade faz mapeamento de índice, com retorno do mesmo valor de entrada. De forma que:\n",
    "$$\n",
    "\\large n=N\n",
    "$$\n",
    "sendo,\n",
    "- N = Número de amostras por eixo,\n",
    "- n = Número de elementos."
   ]
  },
  {
   "cell_type": "code",
   "execution_count": 1,
   "metadata": {},
   "outputs": [
    {
     "name": "stdout",
     "output_type": "stream",
     "text": [
      "2.0.15\n"
     ]
    }
   ],
   "source": [
    "from plotly import __version__, tools\n",
    "from plotly.offline import init_notebook_mode, iplot\n",
    "print(__version__)"
   ]
  },
  {
   "cell_type": "code",
   "execution_count": 2,
   "metadata": {},
   "outputs": [
    {
     "data": {
      "text/html": [
       "<script>requirejs.config({paths: { 'plotly': ['https://cdn.plot.ly/plotly-latest.min']},});if(!window.Plotly) {{require(['plotly'],function(plotly) {window.Plotly=plotly;});}}</script>"
      ],
      "text/vnd.plotly.v1+html": [
       "<script>requirejs.config({paths: { 'plotly': ['https://cdn.plot.ly/plotly-latest.min']},});if(!window.Plotly) {{require(['plotly'],function(plotly) {window.Plotly=plotly;});}}</script>"
      ]
     },
     "metadata": {},
     "output_type": "display_data"
    }
   ],
   "source": [
    "from plotly.graph_objs import *\n",
    "init_notebook_mode(connected = True)"
   ]
  },
  {
   "cell_type": "code",
   "execution_count": 3,
   "metadata": {
    "collapsed": true
   },
   "outputs": [],
   "source": [
    "import numpy as np"
   ]
  },
  {
   "cell_type": "markdown",
   "metadata": {},
   "source": [
    "### Exemplo 01\n",
    "---\n",
    "Identidade com *2* amostras."
   ]
  },
  {
   "cell_type": "code",
   "execution_count": 4,
   "metadata": {
    "scrolled": false
   },
   "outputs": [
    {
     "data": {
      "application/vnd.plotly.v1+json": {
       "data": [
        {
         "hovertext": [
          "índice 0",
          "índice 1"
         ],
         "line": {
          "dash": "line"
         },
         "marker": {
          "color": [
           "rgb(0.0, 0.0, 0.0)",
           "rgb(255.0, 255.0, 255.0)"
          ],
          "line": {
           "color": "rgb(128, 128, 128)",
           "width": 1
          },
          "size": 32,
          "symbol": "circle"
         },
         "type": "scatter",
         "x": [
          0,
          1
         ],
         "y": [
          0,
          1
         ]
        }
       ],
       "layout": {
        "margin": {
         "b": 0,
         "l": 0,
         "r": 0,
         "t": 0
        }
       }
      },
      "text/html": [
       "<div id=\"c5cfe3c4-2fb0-4bab-8c46-bf486ee6182d\" style=\"height: 525px; width: 100%;\" class=\"plotly-graph-div\"></div><script type=\"text/javascript\">require([\"plotly\"], function(Plotly) { window.PLOTLYENV=window.PLOTLYENV || {};window.PLOTLYENV.BASE_URL=\"https://plot.ly\";Plotly.newPlot(\"c5cfe3c4-2fb0-4bab-8c46-bf486ee6182d\", [{\"line\": {\"dash\": \"line\"}, \"type\": \"scatter\", \"marker\": {\"line\": {\"width\": 1, \"color\": \"rgb(128, 128, 128)\"}, \"color\": [\"rgb(0.0, 0.0, 0.0)\", \"rgb(255.0, 255.0, 255.0)\"], \"size\": 32, \"symbol\": \"circle\"}, \"hovertext\": [\"\\u00edndice 0\", \"\\u00edndice 1\"], \"y\": [0.0, 1.0], \"x\": [0.0, 1.0]}], {\"margin\": {\"b\": 0, \"t\": 0, \"r\": 0, \"l\": 0}}, {\"linkText\": \"Export to plot.ly\", \"showLink\": false})});</script>"
      ],
      "text/vnd.plotly.v1+html": [
       "<div id=\"c5cfe3c4-2fb0-4bab-8c46-bf486ee6182d\" style=\"height: 525px; width: 100%;\" class=\"plotly-graph-div\"></div><script type=\"text/javascript\">require([\"plotly\"], function(Plotly) { window.PLOTLYENV=window.PLOTLYENV || {};window.PLOTLYENV.BASE_URL=\"https://plot.ly\";Plotly.newPlot(\"c5cfe3c4-2fb0-4bab-8c46-bf486ee6182d\", [{\"line\": {\"dash\": \"line\"}, \"type\": \"scatter\", \"marker\": {\"line\": {\"width\": 1, \"color\": \"rgb(128, 128, 128)\"}, \"color\": [\"rgb(0.0, 0.0, 0.0)\", \"rgb(255.0, 255.0, 255.0)\"], \"size\": 32, \"symbol\": \"circle\"}, \"hovertext\": [\"\\u00edndice 0\", \"\\u00edndice 1\"], \"y\": [0.0, 1.0], \"x\": [0.0, 1.0]}], {\"margin\": {\"b\": 0, \"t\": 0, \"r\": 0, \"l\": 0}}, {\"linkText\": \"Export to plot.ly\", \"showLink\": false})});</script>"
      ]
     },
     "metadata": {},
     "output_type": "display_data"
    },
    {
     "name": "stdout",
     "output_type": "stream",
     "text": [
      "Wall time: 10 ms\n"
     ]
    }
   ],
   "source": [
    "%%time\n",
    "N = 2\n",
    "### Índices\n",
    "i = [i for i in range(N)]\n",
    "indice = ['índice {0}'.format(a) for a in i]\n",
    "### Tabela de valores por eixo\n",
    "t = np.array(i)/(N - 1)\n",
    "### Visualização\n",
    "cor = ['rgb({0}, {1}, {2})'.format(a*255, b*255, c*255) for a, b, c in zip(t, t, t)]\n",
    "lut01 = [Scatter(x = t,\n",
    "                 y = t,\n",
    "                 line = {'dash': 'line'},\n",
    "                 hovertext = indice,\n",
    "                 marker = {'symbol': 'circle',\n",
    "                           'size': 32,\n",
    "                           'color': cor,\n",
    "                           'line': {'color': 'rgb(128, 128, 128)',\n",
    "                                     'width': 1}})]\n",
    "\n",
    "layout = Layout(margin = {'l': 0, 'r': 0, 'b': 0, 't':0})\n",
    "fig = Figure(data = lut01, layout = layout)\n",
    "iplot(fig, filename = 'LUT1D_identity{0}'.format(N), show_link = False)"
   ]
  },
  {
   "cell_type": "markdown",
   "metadata": {},
   "source": [
    "Saída do arquivo *.cube*."
   ]
  },
  {
   "cell_type": "code",
   "execution_count": 5,
   "metadata": {
    "collapsed": true
   },
   "outputs": [],
   "source": [
    "with open('_cube_files/LUT1D_identityN{0}.cube'.format(N), 'w') as f:\n",
    "    f.write('# Diego Inácio • 2017\\n')\n",
    "    f.write('TITLE \"1D Identity LUT, N = {0}\"\\n'.format(N))\n",
    "    f.write('LUT_1D_SIZE {0}\\n'.format(N))\n",
    "    for r, g, b in zip(t, t, t):\n",
    "        f.write('\\n{0:.4f} {1:.4f} {2:.4f}'.format(r, g, b))"
   ]
  },
  {
   "cell_type": "markdown",
   "metadata": {},
   "source": [
    "### Exemplo 02\n",
    "---\n",
    "Identidade com *4* amostras."
   ]
  },
  {
   "cell_type": "code",
   "execution_count": 6,
   "metadata": {},
   "outputs": [
    {
     "data": {
      "application/vnd.plotly.v1+json": {
       "data": [
        {
         "hovertext": [
          "índice 0",
          "índice 1",
          "índice 2",
          "índice 3"
         ],
         "line": {
          "dash": "line"
         },
         "marker": {
          "color": [
           "rgb(0.0, 0.0, 0.0)",
           "rgb(85.0, 85.0, 85.0)",
           "rgb(170.0, 170.0, 170.0)",
           "rgb(255.0, 255.0, 255.0)"
          ],
          "line": {
           "color": "rgb(128, 128, 128)",
           "width": 1
          },
          "size": 16,
          "symbol": "circle"
         },
         "type": "scatter",
         "x": [
          0,
          0.3333333333333333,
          0.6666666666666666,
          1
         ],
         "y": [
          0,
          0.3333333333333333,
          0.6666666666666666,
          1
         ]
        }
       ],
       "layout": {
        "margin": {
         "b": 0,
         "l": 0,
         "r": 0,
         "t": 0
        }
       }
      },
      "text/html": [
       "<div id=\"b7cdc29e-c449-4908-bba7-be84d9a44562\" style=\"height: 525px; width: 100%;\" class=\"plotly-graph-div\"></div><script type=\"text/javascript\">require([\"plotly\"], function(Plotly) { window.PLOTLYENV=window.PLOTLYENV || {};window.PLOTLYENV.BASE_URL=\"https://plot.ly\";Plotly.newPlot(\"b7cdc29e-c449-4908-bba7-be84d9a44562\", [{\"line\": {\"dash\": \"line\"}, \"type\": \"scatter\", \"marker\": {\"line\": {\"width\": 1, \"color\": \"rgb(128, 128, 128)\"}, \"color\": [\"rgb(0.0, 0.0, 0.0)\", \"rgb(85.0, 85.0, 85.0)\", \"rgb(170.0, 170.0, 170.0)\", \"rgb(255.0, 255.0, 255.0)\"], \"size\": 16, \"symbol\": \"circle\"}, \"hovertext\": [\"\\u00edndice 0\", \"\\u00edndice 1\", \"\\u00edndice 2\", \"\\u00edndice 3\"], \"y\": [0.0, 0.3333333333333333, 0.6666666666666666, 1.0], \"x\": [0.0, 0.3333333333333333, 0.6666666666666666, 1.0]}], {\"margin\": {\"b\": 0, \"t\": 0, \"r\": 0, \"l\": 0}}, {\"linkText\": \"Export to plot.ly\", \"showLink\": false})});</script>"
      ],
      "text/vnd.plotly.v1+html": [
       "<div id=\"b7cdc29e-c449-4908-bba7-be84d9a44562\" style=\"height: 525px; width: 100%;\" class=\"plotly-graph-div\"></div><script type=\"text/javascript\">require([\"plotly\"], function(Plotly) { window.PLOTLYENV=window.PLOTLYENV || {};window.PLOTLYENV.BASE_URL=\"https://plot.ly\";Plotly.newPlot(\"b7cdc29e-c449-4908-bba7-be84d9a44562\", [{\"line\": {\"dash\": \"line\"}, \"type\": \"scatter\", \"marker\": {\"line\": {\"width\": 1, \"color\": \"rgb(128, 128, 128)\"}, \"color\": [\"rgb(0.0, 0.0, 0.0)\", \"rgb(85.0, 85.0, 85.0)\", \"rgb(170.0, 170.0, 170.0)\", \"rgb(255.0, 255.0, 255.0)\"], \"size\": 16, \"symbol\": \"circle\"}, \"hovertext\": [\"\\u00edndice 0\", \"\\u00edndice 1\", \"\\u00edndice 2\", \"\\u00edndice 3\"], \"y\": [0.0, 0.3333333333333333, 0.6666666666666666, 1.0], \"x\": [0.0, 0.3333333333333333, 0.6666666666666666, 1.0]}], {\"margin\": {\"b\": 0, \"t\": 0, \"r\": 0, \"l\": 0}}, {\"linkText\": \"Export to plot.ly\", \"showLink\": false})});</script>"
      ]
     },
     "metadata": {},
     "output_type": "display_data"
    },
    {
     "name": "stdout",
     "output_type": "stream",
     "text": [
      "Wall time: 0 ns\n"
     ]
    }
   ],
   "source": [
    "%%time\n",
    "N = 4\n",
    "### Índices\n",
    "i = [i for i in range(N)]\n",
    "indice = ['índice {0}'.format(a) for a in i]\n",
    "### Tabela de valores por eixo\n",
    "t = np.array(i)/(N - 1)\n",
    "### Visualização\n",
    "cor = ['rgb({0}, {1}, {2})'.format(a*255, b*255, c*255) for a, b, c in zip(t, t, t)]\n",
    "lut02 = [Scatter(x = t,\n",
    "                 y = t,\n",
    "                 line = {'dash': 'line'},\n",
    "                 hovertext = indice,\n",
    "                 marker = {'symbol': 'circle',\n",
    "                           'size': 16,\n",
    "                           'color': cor,\n",
    "                           'line': {'color': 'rgb(128, 128, 128)',\n",
    "                                     'width': 1}})]\n",
    "\n",
    "layout = Layout(margin = {'l': 0, 'r': 0, 'b': 0, 't':0})\n",
    "fig = Figure(data = lut02, layout = layout)\n",
    "iplot(fig, filename = 'LUT1D_identity{0}'.format(N), show_link = False)"
   ]
  },
  {
   "cell_type": "markdown",
   "metadata": {},
   "source": [
    "Saída do arquivo *.cube*."
   ]
  },
  {
   "cell_type": "code",
   "execution_count": 7,
   "metadata": {
    "collapsed": true
   },
   "outputs": [],
   "source": [
    "with open('_cube_files/LUT1D_identityN{0}.cube'.format(N), 'w') as f:\n",
    "    f.write('# Diego Inácio • 2017\\n')\n",
    "    f.write('TITLE \"1D Identity LUT, N = {0}\"\\n'.format(N))\n",
    "    f.write('LUT_1D_SIZE {0}\\n'.format(N))\n",
    "    for r, g, b in zip(t, t, t):\n",
    "        f.write('\\n{0:.4f} {1:.4f} {2:.4f}'.format(r, g, b))"
   ]
  },
  {
   "cell_type": "markdown",
   "metadata": {},
   "source": [
    "### Exemplo 03\n",
    "---\n",
    "Identidade com *16* amostras."
   ]
  },
  {
   "cell_type": "code",
   "execution_count": 8,
   "metadata": {},
   "outputs": [
    {
     "data": {
      "application/vnd.plotly.v1+json": {
       "data": [
        {
         "hovertext": [
          "índice 0",
          "índice 1",
          "índice 2",
          "índice 3",
          "índice 4",
          "índice 5",
          "índice 6",
          "índice 7",
          "índice 8",
          "índice 9",
          "índice 10",
          "índice 11",
          "índice 12",
          "índice 13",
          "índice 14",
          "índice 15"
         ],
         "line": {
          "dash": "line"
         },
         "marker": {
          "color": [
           "rgb(0.0, 0.0, 0.0)",
           "rgb(17.0, 17.0, 17.0)",
           "rgb(34.0, 34.0, 34.0)",
           "rgb(51.0, 51.0, 51.0)",
           "rgb(68.0, 68.0, 68.0)",
           "rgb(85.0, 85.0, 85.0)",
           "rgb(102.0, 102.0, 102.0)",
           "rgb(119.0, 119.0, 119.0)",
           "rgb(136.0, 136.0, 136.0)",
           "rgb(153.0, 153.0, 153.0)",
           "rgb(170.0, 170.0, 170.0)",
           "rgb(187.0, 187.0, 187.0)",
           "rgb(204.0, 204.0, 204.0)",
           "rgb(221.0, 221.0, 221.0)",
           "rgb(238.0, 238.0, 238.0)",
           "rgb(255.0, 255.0, 255.0)"
          ],
          "line": {
           "color": "rgb(128, 128, 128)",
           "width": 1
          },
          "size": 8,
          "symbol": "circle"
         },
         "type": "scatter",
         "x": [
          0,
          0.06666666666666667,
          0.13333333333333333,
          0.2,
          0.26666666666666666,
          0.3333333333333333,
          0.4,
          0.4666666666666667,
          0.5333333333333333,
          0.6,
          0.6666666666666666,
          0.7333333333333333,
          0.8,
          0.8666666666666667,
          0.9333333333333333,
          1
         ],
         "y": [
          0,
          0.06666666666666667,
          0.13333333333333333,
          0.2,
          0.26666666666666666,
          0.3333333333333333,
          0.4,
          0.4666666666666667,
          0.5333333333333333,
          0.6,
          0.6666666666666666,
          0.7333333333333333,
          0.8,
          0.8666666666666667,
          0.9333333333333333,
          1
         ]
        }
       ],
       "layout": {
        "margin": {
         "b": 0,
         "l": 0,
         "r": 0,
         "t": 0
        }
       }
      },
      "text/html": [
       "<div id=\"115ab196-6d55-4178-8183-39598ea54a00\" style=\"height: 525px; width: 100%;\" class=\"plotly-graph-div\"></div><script type=\"text/javascript\">require([\"plotly\"], function(Plotly) { window.PLOTLYENV=window.PLOTLYENV || {};window.PLOTLYENV.BASE_URL=\"https://plot.ly\";Plotly.newPlot(\"115ab196-6d55-4178-8183-39598ea54a00\", [{\"line\": {\"dash\": \"line\"}, \"type\": \"scatter\", \"marker\": {\"line\": {\"width\": 1, \"color\": \"rgb(128, 128, 128)\"}, \"color\": [\"rgb(0.0, 0.0, 0.0)\", \"rgb(17.0, 17.0, 17.0)\", \"rgb(34.0, 34.0, 34.0)\", \"rgb(51.0, 51.0, 51.0)\", \"rgb(68.0, 68.0, 68.0)\", \"rgb(85.0, 85.0, 85.0)\", \"rgb(102.0, 102.0, 102.0)\", \"rgb(119.0, 119.0, 119.0)\", \"rgb(136.0, 136.0, 136.0)\", \"rgb(153.0, 153.0, 153.0)\", \"rgb(170.0, 170.0, 170.0)\", \"rgb(187.0, 187.0, 187.0)\", \"rgb(204.0, 204.0, 204.0)\", \"rgb(221.0, 221.0, 221.0)\", \"rgb(238.0, 238.0, 238.0)\", \"rgb(255.0, 255.0, 255.0)\"], \"size\": 8, \"symbol\": \"circle\"}, \"hovertext\": [\"\\u00edndice 0\", \"\\u00edndice 1\", \"\\u00edndice 2\", \"\\u00edndice 3\", \"\\u00edndice 4\", \"\\u00edndice 5\", \"\\u00edndice 6\", \"\\u00edndice 7\", \"\\u00edndice 8\", \"\\u00edndice 9\", \"\\u00edndice 10\", \"\\u00edndice 11\", \"\\u00edndice 12\", \"\\u00edndice 13\", \"\\u00edndice 14\", \"\\u00edndice 15\"], \"y\": [0.0, 0.06666666666666667, 0.13333333333333333, 0.2, 0.26666666666666666, 0.3333333333333333, 0.4, 0.4666666666666667, 0.5333333333333333, 0.6, 0.6666666666666666, 0.7333333333333333, 0.8, 0.8666666666666667, 0.9333333333333333, 1.0], \"x\": [0.0, 0.06666666666666667, 0.13333333333333333, 0.2, 0.26666666666666666, 0.3333333333333333, 0.4, 0.4666666666666667, 0.5333333333333333, 0.6, 0.6666666666666666, 0.7333333333333333, 0.8, 0.8666666666666667, 0.9333333333333333, 1.0]}], {\"margin\": {\"b\": 0, \"t\": 0, \"r\": 0, \"l\": 0}}, {\"linkText\": \"Export to plot.ly\", \"showLink\": false})});</script>"
      ],
      "text/vnd.plotly.v1+html": [
       "<div id=\"115ab196-6d55-4178-8183-39598ea54a00\" style=\"height: 525px; width: 100%;\" class=\"plotly-graph-div\"></div><script type=\"text/javascript\">require([\"plotly\"], function(Plotly) { window.PLOTLYENV=window.PLOTLYENV || {};window.PLOTLYENV.BASE_URL=\"https://plot.ly\";Plotly.newPlot(\"115ab196-6d55-4178-8183-39598ea54a00\", [{\"line\": {\"dash\": \"line\"}, \"type\": \"scatter\", \"marker\": {\"line\": {\"width\": 1, \"color\": \"rgb(128, 128, 128)\"}, \"color\": [\"rgb(0.0, 0.0, 0.0)\", \"rgb(17.0, 17.0, 17.0)\", \"rgb(34.0, 34.0, 34.0)\", \"rgb(51.0, 51.0, 51.0)\", \"rgb(68.0, 68.0, 68.0)\", \"rgb(85.0, 85.0, 85.0)\", \"rgb(102.0, 102.0, 102.0)\", \"rgb(119.0, 119.0, 119.0)\", \"rgb(136.0, 136.0, 136.0)\", \"rgb(153.0, 153.0, 153.0)\", \"rgb(170.0, 170.0, 170.0)\", \"rgb(187.0, 187.0, 187.0)\", \"rgb(204.0, 204.0, 204.0)\", \"rgb(221.0, 221.0, 221.0)\", \"rgb(238.0, 238.0, 238.0)\", \"rgb(255.0, 255.0, 255.0)\"], \"size\": 8, \"symbol\": \"circle\"}, \"hovertext\": [\"\\u00edndice 0\", \"\\u00edndice 1\", \"\\u00edndice 2\", \"\\u00edndice 3\", \"\\u00edndice 4\", \"\\u00edndice 5\", \"\\u00edndice 6\", \"\\u00edndice 7\", \"\\u00edndice 8\", \"\\u00edndice 9\", \"\\u00edndice 10\", \"\\u00edndice 11\", \"\\u00edndice 12\", \"\\u00edndice 13\", \"\\u00edndice 14\", \"\\u00edndice 15\"], \"y\": [0.0, 0.06666666666666667, 0.13333333333333333, 0.2, 0.26666666666666666, 0.3333333333333333, 0.4, 0.4666666666666667, 0.5333333333333333, 0.6, 0.6666666666666666, 0.7333333333333333, 0.8, 0.8666666666666667, 0.9333333333333333, 1.0], \"x\": [0.0, 0.06666666666666667, 0.13333333333333333, 0.2, 0.26666666666666666, 0.3333333333333333, 0.4, 0.4666666666666667, 0.5333333333333333, 0.6, 0.6666666666666666, 0.7333333333333333, 0.8, 0.8666666666666667, 0.9333333333333333, 1.0]}], {\"margin\": {\"b\": 0, \"t\": 0, \"r\": 0, \"l\": 0}}, {\"linkText\": \"Export to plot.ly\", \"showLink\": false})});</script>"
      ]
     },
     "metadata": {},
     "output_type": "display_data"
    },
    {
     "name": "stdout",
     "output_type": "stream",
     "text": [
      "Wall time: 10 ms\n"
     ]
    }
   ],
   "source": [
    "%%time\n",
    "N = 16\n",
    "### Índices\n",
    "i = [i for i in range(N)]\n",
    "indice = ['índice {0}'.format(a) for a in i]\n",
    "### Tabela de valores por eixo\n",
    "t = np.array(i)/(N - 1)\n",
    "### Visualização\n",
    "cor = ['rgb({0}, {1}, {2})'.format(a*255, b*255, c*255) for a, b, c in zip(t, t, t)]\n",
    "lut03 = [Scatter(x = t,\n",
    "                 y = t,\n",
    "                 line = {'dash': 'line'},\n",
    "                 hovertext = indice,\n",
    "                 marker = {'symbol': 'circle',\n",
    "                           'size': 8,\n",
    "                           'color': cor,\n",
    "                           'line': {'color': 'rgb(128, 128, 128)',\n",
    "                                     'width': 1}})]\n",
    "\n",
    "layout = Layout(margin = {'l': 0, 'r': 0, 'b': 0, 't':0})\n",
    "fig = Figure(data = lut03, layout = layout)\n",
    "iplot(fig, filename = 'LUT1D_identity{0}'.format(N), show_link = False)"
   ]
  },
  {
   "cell_type": "markdown",
   "metadata": {},
   "source": [
    "Saída do arquivo *.cube*."
   ]
  },
  {
   "cell_type": "code",
   "execution_count": 9,
   "metadata": {
    "collapsed": true
   },
   "outputs": [],
   "source": [
    "with open('_cube_files/LUT1D_identityN{0}.cube'.format(N), 'w') as f:\n",
    "    f.write('# Diego Inácio • 2017\\n')\n",
    "    f.write('TITLE \"1D Identity LUT, N = {0}\"\\n'.format(N))\n",
    "    f.write('LUT_1D_SIZE {0}\\n'.format(N))\n",
    "    for r, g, b in zip(t, t, t):\n",
    "        f.write('\\n{0:.4f} {1:.4f} {2:.4f}'.format(r, g, b))"
   ]
  },
  {
   "cell_type": "markdown",
   "metadata": {},
   "source": [
    "## Referência\n",
    "---\n",
    "1. Selan, Jeremy (2004). \"Using Lookup Tables to Accelerate Color Transformations\" [GPU Gems 2, Chapter 24](https://developer.nvidia.com/gpugems/GPUGems2/gpugems2_chapter24.html).\n",
    "2. [Adobe. Cube LUT Specification, 2013](http://wwwimages.adobe.com/content/dam/Adobe/en/products/speedgrade/cc/pdfs/cube-lut-specification-1.0.pdf).\n",
    "3. Lorenzo, Angelo (2012). \"LUTs Part 1: What is a LUT?\". [[Online](http://www.fallenempiredigital.com/blog/2012/12/04/luts-part-1-what-is-a-lut/)]\n",
    "4. Wikipedia. 3D lookup table. [[Online](https://en.wikipedia.org/wiki/3D_lookup_table)]"
   ]
  }
 ],
 "metadata": {
  "kernelspec": {
   "display_name": "Python [conda env:cubeLUT]",
   "language": "python",
   "name": "conda-env-cubeLUT-py"
  },
  "language_info": {
   "codemirror_mode": {
    "name": "ipython",
    "version": 3
   },
   "file_extension": ".py",
   "mimetype": "text/x-python",
   "name": "python",
   "nbconvert_exporter": "python",
   "pygments_lexer": "ipython3",
   "version": "3.5.4"
  }
 },
 "nbformat": 4,
 "nbformat_minor": 2
}
